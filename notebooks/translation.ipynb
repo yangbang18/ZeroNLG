{
 "cells": [
  {
   "cell_type": "code",
   "execution_count": 1,
   "id": "7ead87ef-691a-4b9e-9176-ce13321cb5a2",
   "metadata": {},
   "outputs": [],
   "source": [
    "import os\n",
    "REPO = os.path.dirname(os.path.realpath('.'))\n",
    "os.chdir(REPO)"
   ]
  },
  {
   "cell_type": "code",
   "execution_count": 2,
   "id": "eb8769e3-ee14-4ddd-9543-f6f0172662ac",
   "metadata": {},
   "outputs": [],
   "source": [
    "CHECKPOINT_ROOT = 'data/checkpoints/'\n",
    "DATA_ROOT = 'data/annotations/flickr30k/'\n",
    "SAVE_ROOT = 'translation_results'"
   ]
  },
  {
   "cell_type": "code",
   "execution_count": 3,
   "id": "f0cf6a23-2f7e-49a6-921b-3267addf78f2",
   "metadata": {},
   "outputs": [],
   "source": [
    "import torch\n",
    "from tqdm import tqdm\n",
    "from zeronlg.utils import translate_eval, batch_to_device\n",
    "\n",
    "generation_kwargs = {\n",
    "    'num_beams': 3,\n",
    "    'max_length': 128,\n",
    "    'min_length': 5,\n",
    "    'repetition_penalty': 1\n",
    "}\n",
    "\n",
    "def run(model, tag, mapping, folders=['en-zh', 'en-de', 'en-fr', 'zh-de', 'zh-fr', 'de-fr'], batch_size=32):\n",
    "    device = torch.device(\"cuda:1\" if torch.cuda.is_available() else \"cpu\")\n",
    "    model.to(device)\n",
    "\n",
    "    for folder in folders:\n",
    "        lang1, lang2 = folder.split('-')\n",
    "\n",
    "        for src_lang, trg_lang in zip([lang1, lang2], [lang2, lang1]):\n",
    "            print(f'Running {src_lang} --> {trg_lang}')\n",
    "            src_data = open(os.path.join(DATA_ROOT, folder, f'test.{src_lang}'), 'r', encoding='utf8').read().strip().split('\\n')\n",
    "\n",
    "            num_batches = len(src_data) // batch_size\n",
    "            if batch_size * num_batches != src_data:\n",
    "                num_batches += 1\n",
    "\n",
    "            tokenizer.src_lang = mapping[src_lang]\n",
    "            results = []\n",
    "            for i in tqdm(range(num_batches)):\n",
    "                text = src_data[i*batch_size:(i+1)*batch_size]\n",
    "                encoded_text = tokenizer(text, return_tensors=\"pt\", padding=True)\n",
    "                encoded_text = batch_to_device(encoded_text, device)\n",
    "                generated_tokens = model.generate(\n",
    "                    **encoded_text,\n",
    "                    forced_bos_token_id=tokenizer.lang_code_to_id[mapping[trg_lang]],\n",
    "                    **generation_kwargs,\n",
    "                )\n",
    "                res = tokenizer.batch_decode(generated_tokens, skip_special_tokens=True)\n",
    "                results.extend(res)\n",
    "\n",
    "            save_path = os.path.join(SAVE_ROOT, folder)\n",
    "            os.makedirs(save_path, exist_ok=True)\n",
    "            with open(os.path.join(save_path, f'test_{tag}_{src_lang}2{trg_lang}.txt'), 'w') as wf:\n",
    "                wf.write('\\n'.join(results))\n",
    "            \n",
    "            trg_data = open(os.path.join(DATA_ROOT, folder, f'test.{trg_lang}'), 'r', encoding='utf8').read().strip().split('\\n')\n",
    "            score = translate_eval(trg_data, results, trg_lang)['BLEU']\n",
    "            print('BLEU:', score)"
   ]
  },
  {
   "attachments": {},
   "cell_type": "markdown",
   "id": "8fed7730-b78b-4756-9362-4b7899fec6b6",
   "metadata": {},
   "source": [
    "# mBART-50"
   ]
  },
  {
   "cell_type": "code",
   "execution_count": 4,
   "id": "49036b3a-3c38-4e3a-8bcc-966d20499164",
   "metadata": {},
   "outputs": [
    {
     "name": "stdout",
     "output_type": "stream",
     "text": [
      "Requirement already satisfied: protobuf==3.19.0 in /home/bangyang/anaconda3/envs/zeronlg/lib/python3.8/site-packages (3.19.0)\n"
     ]
    }
   ],
   "source": [
    "!pip install protobuf==3.19.0"
   ]
  },
  {
   "cell_type": "code",
   "execution_count": 5,
   "id": "98435964-7bcb-4aac-8419-c0d70bc60ac1",
   "metadata": {},
   "outputs": [
    {
     "name": "stdout",
     "output_type": "stream",
     "text": [
      "Total Params: 610879488\n"
     ]
    }
   ],
   "source": [
    "from transformers import MBartForConditionalGeneration, MBart50TokenizerFast\n",
    "\n",
    "model_name = \"facebook/mbart-large-50-many-to-many-mmt\"\n",
    "model_name = f\"{CHECKPOINT_ROOT}/{model_name.replace('/', '_')}\"\n",
    "model = MBartForConditionalGeneration.from_pretrained(model_name)\n",
    "tokenizer = MBart50TokenizerFast.from_pretrained(model_name)\n",
    "\n",
    "print(f\"Total Params: {sum(p.numel() for p in model.parameters())}\")"
   ]
  },
  {
   "cell_type": "code",
   "execution_count": 6,
   "id": "04ff3c1a-9e17-46d0-996f-d836fa1e8320",
   "metadata": {},
   "outputs": [
    {
     "name": "stdout",
     "output_type": "stream",
     "text": [
      "Running en --> zh\n"
     ]
    },
    {
     "name": "stderr",
     "output_type": "stream",
     "text": [
      "100%|████████████████████████████████████████████████████████████████████████████████████████████████████████████████████████████████████| 157/157 [02:06<00:00,  1.24it/s]\n"
     ]
    },
    {
     "name": "stdout",
     "output_type": "stream",
     "text": [
      "BLEU: 18.93166225724159\n",
      "Running zh --> en\n"
     ]
    },
    {
     "name": "stderr",
     "output_type": "stream",
     "text": [
      "100%|████████████████████████████████████████████████████████████████████████████████████████████████████████████████████████████████████| 157/157 [02:09<00:00,  1.21it/s]\n"
     ]
    },
    {
     "name": "stdout",
     "output_type": "stream",
     "text": [
      "BLEU: 12.455019776062109\n",
      "Running en --> de\n"
     ]
    },
    {
     "name": "stderr",
     "output_type": "stream",
     "text": [
      "100%|██████████████████████████████████████████████████████████████████████████████████████████████████████████████████████████████████████| 32/32 [00:26<00:00,  1.23it/s]\n"
     ]
    },
    {
     "name": "stdout",
     "output_type": "stream",
     "text": [
      "BLEU: 32.41109672697176\n",
      "Running de --> en\n"
     ]
    },
    {
     "name": "stderr",
     "output_type": "stream",
     "text": [
      "100%|██████████████████████████████████████████████████████████████████████████████████████████████████████████████████████████████████████| 32/32 [00:23<00:00,  1.38it/s]\n"
     ]
    },
    {
     "name": "stdout",
     "output_type": "stream",
     "text": [
      "BLEU: 34.00489510137836\n",
      "Running en --> fr\n"
     ]
    },
    {
     "name": "stderr",
     "output_type": "stream",
     "text": [
      "100%|██████████████████████████████████████████████████████████████████████████████████████████████████████████████████████████████████████| 32/32 [00:28<00:00,  1.14it/s]\n"
     ]
    },
    {
     "name": "stdout",
     "output_type": "stream",
     "text": [
      "BLEU: 30.397856351510708\n",
      "Running fr --> en\n"
     ]
    },
    {
     "name": "stderr",
     "output_type": "stream",
     "text": [
      "100%|██████████████████████████████████████████████████████████████████████████████████████████████████████████████████████████████████████| 32/32 [00:23<00:00,  1.39it/s]\n"
     ]
    },
    {
     "name": "stdout",
     "output_type": "stream",
     "text": [
      "BLEU: 41.129413898028346\n",
      "Running zh --> de\n"
     ]
    },
    {
     "name": "stderr",
     "output_type": "stream",
     "text": [
      "100%|████████████████████████████████████████████████████████████████████████████████████████████████████████████████████████████████████████| 2/2 [00:01<00:00,  1.35it/s]\n"
     ]
    },
    {
     "name": "stdout",
     "output_type": "stream",
     "text": [
      "BLEU: 6.878554730316076\n",
      "Running de --> zh\n"
     ]
    },
    {
     "name": "stderr",
     "output_type": "stream",
     "text": [
      "100%|████████████████████████████████████████████████████████████████████████████████████████████████████████████████████████████████████████| 2/2 [00:00<00:00,  2.02it/s]\n"
     ]
    },
    {
     "name": "stdout",
     "output_type": "stream",
     "text": [
      "BLEU: 0.2555115861856091\n",
      "Running zh --> fr\n"
     ]
    },
    {
     "name": "stderr",
     "output_type": "stream",
     "text": [
      "100%|████████████████████████████████████████████████████████████████████████████████████████████████████████████████████████████████████████| 2/2 [00:01<00:00,  1.34it/s]\n"
     ]
    },
    {
     "name": "stdout",
     "output_type": "stream",
     "text": [
      "BLEU: 4.172111129589371\n",
      "Running fr --> zh\n"
     ]
    },
    {
     "name": "stderr",
     "output_type": "stream",
     "text": [
      "100%|████████████████████████████████████████████████████████████████████████████████████████████████████████████████████████████████████████| 2/2 [00:01<00:00,  1.97it/s]\n"
     ]
    },
    {
     "name": "stdout",
     "output_type": "stream",
     "text": [
      "BLEU: 1.7117586098746624\n",
      "Running de --> fr\n"
     ]
    },
    {
     "name": "stderr",
     "output_type": "stream",
     "text": [
      "100%|██████████████████████████████████████████████████████████████████████████████████████████████████████████████████████████████████████| 32/32 [00:25<00:00,  1.27it/s]\n"
     ]
    },
    {
     "name": "stdout",
     "output_type": "stream",
     "text": [
      "BLEU: 7.6018134107032065\n",
      "Running fr --> de\n"
     ]
    },
    {
     "name": "stderr",
     "output_type": "stream",
     "text": [
      "100%|██████████████████████████████████████████████████████████████████████████████████████████████████████████████████████████████████████| 32/32 [00:29<00:00,  1.08it/s]"
     ]
    },
    {
     "name": "stdout",
     "output_type": "stream",
     "text": [
      "BLEU: 17.87187722413398\n"
     ]
    },
    {
     "name": "stderr",
     "output_type": "stream",
     "text": [
      "\n"
     ]
    }
   ],
   "source": [
    "tag = 'mBART'\n",
    "mapping = {\n",
    "    'en': 'en_XX',\n",
    "    'zh': 'zh_CN',\n",
    "    'de': 'de_DE',\n",
    "    'fr': 'fr_XX',\n",
    "}\n",
    "run(model, tag, mapping, folders=['en-zh', 'en-de', 'en-fr', 'zh-de', 'zh-fr', 'de-fr'])"
   ]
  },
  {
   "attachments": {},
   "cell_type": "markdown",
   "id": "3215a139-6f48-407f-8f49-7c6e0e52194d",
   "metadata": {},
   "source": [
    "# M2M-100"
   ]
  },
  {
   "cell_type": "code",
   "execution_count": 7,
   "id": "c0cd2132-3313-49cd-95be-814a06c0f65b",
   "metadata": {},
   "outputs": [
    {
     "name": "stdout",
     "output_type": "stream",
     "text": [
      "Total Params: 483905536\n"
     ]
    }
   ],
   "source": [
    "from transformers import M2M100ForConditionalGeneration, M2M100Tokenizer\n",
    "\n",
    "model_name = \"facebook/m2m100_418M\"\n",
    "model_name = f\"{CHECKPOINT_ROOT}/{model_name.replace('/', '_')}\"\n",
    "model = M2M100ForConditionalGeneration.from_pretrained(model_name, cache_dir=os.path.join(CHECKPOINT_ROOT, model_name))\n",
    "tokenizer = M2M100Tokenizer.from_pretrained(model_name, cache_dir=os.path.join(CHECKPOINT_ROOT, model_name))\n",
    "\n",
    "print(f\"Total Params: {sum(p.numel() for p in model.parameters())}\")"
   ]
  },
  {
   "cell_type": "code",
   "execution_count": 8,
   "id": "291d1551-c794-492d-9b4d-e791346ed131",
   "metadata": {},
   "outputs": [
    {
     "name": "stdout",
     "output_type": "stream",
     "text": [
      "Running en --> zh\n"
     ]
    },
    {
     "name": "stderr",
     "output_type": "stream",
     "text": [
      "100%|████████████████████████████████████████████████████████████████████████████████████████████████████████████████████████████████████| 157/157 [02:17<00:00,  1.14it/s]\n"
     ]
    },
    {
     "name": "stdout",
     "output_type": "stream",
     "text": [
      "BLEU: 16.360305144230413\n",
      "Running zh --> en\n"
     ]
    },
    {
     "name": "stderr",
     "output_type": "stream",
     "text": [
      "100%|████████████████████████████████████████████████████████████████████████████████████████████████████████████████████████████████████| 157/157 [02:13<00:00,  1.17it/s]\n"
     ]
    },
    {
     "name": "stdout",
     "output_type": "stream",
     "text": [
      "BLEU: 10.50308258547299\n",
      "Running en --> de\n"
     ]
    },
    {
     "name": "stderr",
     "output_type": "stream",
     "text": [
      "100%|██████████████████████████████████████████████████████████████████████████████████████████████████████████████████████████████████████| 32/32 [00:28<00:00,  1.10it/s]\n"
     ]
    },
    {
     "name": "stdout",
     "output_type": "stream",
     "text": [
      "BLEU: 24.515212466718005\n",
      "Running de --> en\n"
     ]
    },
    {
     "name": "stderr",
     "output_type": "stream",
     "text": [
      "100%|██████████████████████████████████████████████████████████████████████████████████████████████████████████████████████████████████████| 32/32 [00:22<00:00,  1.44it/s]\n"
     ]
    },
    {
     "name": "stdout",
     "output_type": "stream",
     "text": [
      "BLEU: 30.156626549757917\n",
      "Running en --> fr\n"
     ]
    },
    {
     "name": "stderr",
     "output_type": "stream",
     "text": [
      "100%|██████████████████████████████████████████████████████████████████████████████████████████████████████████████████████████████████████| 32/32 [00:30<00:00,  1.06it/s]\n"
     ]
    },
    {
     "name": "stdout",
     "output_type": "stream",
     "text": [
      "BLEU: 30.690488999723968\n",
      "Running fr --> en\n"
     ]
    },
    {
     "name": "stderr",
     "output_type": "stream",
     "text": [
      "100%|██████████████████████████████████████████████████████████████████████████████████████████████████████████████████████████████████████| 32/32 [00:24<00:00,  1.30it/s]\n"
     ]
    },
    {
     "name": "stdout",
     "output_type": "stream",
     "text": [
      "BLEU: 36.38310886404972\n",
      "Running zh --> de\n"
     ]
    },
    {
     "name": "stderr",
     "output_type": "stream",
     "text": [
      "100%|████████████████████████████████████████████████████████████████████████████████████████████████████████████████████████████████████████| 2/2 [00:02<00:00,  1.02s/it]\n"
     ]
    },
    {
     "name": "stdout",
     "output_type": "stream",
     "text": [
      "BLEU: 8.512628459916103\n",
      "Running de --> zh\n"
     ]
    },
    {
     "name": "stderr",
     "output_type": "stream",
     "text": [
      "100%|████████████████████████████████████████████████████████████████████████████████████████████████████████████████████████████████████████| 2/2 [00:01<00:00,  1.85it/s]\n"
     ]
    },
    {
     "name": "stdout",
     "output_type": "stream",
     "text": [
      "BLEU: 13.283719141006964\n",
      "Running zh --> fr\n"
     ]
    },
    {
     "name": "stderr",
     "output_type": "stream",
     "text": [
      "100%|████████████████████████████████████████████████████████████████████████████████████████████████████████████████████████████████████████| 2/2 [00:01<00:00,  1.12it/s]\n"
     ]
    },
    {
     "name": "stdout",
     "output_type": "stream",
     "text": [
      "BLEU: 6.756616019283316\n",
      "Running fr --> zh\n"
     ]
    },
    {
     "name": "stderr",
     "output_type": "stream",
     "text": [
      "100%|████████████████████████████████████████████████████████████████████████████████████████████████████████████████████████████████████████| 2/2 [00:00<00:00,  2.06it/s]\n"
     ]
    },
    {
     "name": "stdout",
     "output_type": "stream",
     "text": [
      "BLEU: 14.87732371757134\n",
      "Running de --> fr\n"
     ]
    },
    {
     "name": "stderr",
     "output_type": "stream",
     "text": [
      "100%|██████████████████████████████████████████████████████████████████████████████████████████████████████████████████████████████████████| 32/32 [00:29<00:00,  1.07it/s]\n"
     ]
    },
    {
     "name": "stdout",
     "output_type": "stream",
     "text": [
      "BLEU: 22.595825804515478\n",
      "Running fr --> de\n"
     ]
    },
    {
     "name": "stderr",
     "output_type": "stream",
     "text": [
      "100%|██████████████████████████████████████████████████████████████████████████████████████████████████████████████████████████████████████| 32/32 [00:27<00:00,  1.17it/s]"
     ]
    },
    {
     "name": "stdout",
     "output_type": "stream",
     "text": [
      "BLEU: 23.48753354815412\n"
     ]
    },
    {
     "name": "stderr",
     "output_type": "stream",
     "text": [
      "\n"
     ]
    }
   ],
   "source": [
    "tag = 'M2M'\n",
    "mapping = {\n",
    "    'en': 'en',\n",
    "    'zh': 'zh',\n",
    "    'de': 'de',\n",
    "    'fr': 'fr',\n",
    "}\n",
    "run(model, tag, mapping, folders=['en-zh', 'en-de', 'en-fr', 'zh-de', 'zh-fr', 'de-fr'])"
   ]
  },
  {
   "attachments": {},
   "cell_type": "markdown",
   "id": "a5635623-c02d-4b3d-831a-fdf821b5b69d",
   "metadata": {},
   "source": [
    "# NLLB"
   ]
  },
  {
   "cell_type": "code",
   "execution_count": null,
   "id": "307d4290-3f2c-4e5a-830c-4066730e21bd",
   "metadata": {},
   "outputs": [],
   "source": [
    "# if your `transformers` version is low, e.g., 4.12.5\n",
    "# then you should upgrade it to load the NLLB model\n",
    "!pip install transformers==4.27.1"
   ]
  },
  {
   "cell_type": "code",
   "execution_count": 9,
   "id": "a43cdf3d-57b6-4b68-86c0-fc7ae4dcc29b",
   "metadata": {},
   "outputs": [
    {
     "name": "stdout",
     "output_type": "stream",
     "text": [
      "Total Params: 615073792\n"
     ]
    }
   ],
   "source": [
    "from transformers import AutoTokenizer, AutoModelForSeq2SeqLM\n",
    "\n",
    "model_name = \"facebook/nllb-200-distilled-600M\"\n",
    "model_name = f\"{CHECKPOINT_ROOT}/{model_name.replace('/', '_')}\"\n",
    "tokenizer = AutoTokenizer.from_pretrained(model_name)\n",
    "model = AutoModelForSeq2SeqLM.from_pretrained(model_name)\n",
    "\n",
    "print(f\"Total Params: {sum(p.numel() for p in model.parameters())}\")"
   ]
  },
  {
   "cell_type": "code",
   "execution_count": 10,
   "id": "36d88a30-dabe-4ee8-b9c8-d6f9639204ef",
   "metadata": {},
   "outputs": [
    {
     "name": "stdout",
     "output_type": "stream",
     "text": [
      "Running en --> zh\n"
     ]
    },
    {
     "name": "stderr",
     "output_type": "stream",
     "text": [
      "100%|████████████████████████████████████████████████████████████████████████████████████████████████████████████████████████████████████| 157/157 [02:34<00:00,  1.02it/s]\n"
     ]
    },
    {
     "name": "stdout",
     "output_type": "stream",
     "text": [
      "BLEU: 6.329950199239601\n",
      "Running zh --> en\n"
     ]
    },
    {
     "name": "stderr",
     "output_type": "stream",
     "text": [
      "100%|████████████████████████████████████████████████████████████████████████████████████████████████████████████████████████████████████| 157/157 [03:04<00:00,  1.18s/it]\n"
     ]
    },
    {
     "name": "stdout",
     "output_type": "stream",
     "text": [
      "BLEU: 12.780279435319835\n",
      "Running en --> de\n"
     ]
    },
    {
     "name": "stderr",
     "output_type": "stream",
     "text": [
      "100%|██████████████████████████████████████████████████████████████████████████████████████████████████████████████████████████████████████| 32/32 [00:30<00:00,  1.04it/s]\n"
     ]
    },
    {
     "name": "stdout",
     "output_type": "stream",
     "text": [
      "BLEU: 37.45831539827305\n",
      "Running de --> en\n"
     ]
    },
    {
     "name": "stderr",
     "output_type": "stream",
     "text": [
      "100%|██████████████████████████████████████████████████████████████████████████████████████████████████████████████████████████████████████| 32/32 [00:25<00:00,  1.26it/s]\n"
     ]
    },
    {
     "name": "stdout",
     "output_type": "stream",
     "text": [
      "BLEU: 39.77187624254019\n",
      "Running en --> fr\n"
     ]
    },
    {
     "name": "stderr",
     "output_type": "stream",
     "text": [
      "100%|██████████████████████████████████████████████████████████████████████████████████████████████████████████████████████████████████████| 32/32 [00:31<00:00,  1.03it/s]\n"
     ]
    },
    {
     "name": "stdout",
     "output_type": "stream",
     "text": [
      "BLEU: 49.810105933572025\n",
      "Running fr --> en\n"
     ]
    },
    {
     "name": "stderr",
     "output_type": "stream",
     "text": [
      "100%|██████████████████████████████████████████████████████████████████████████████████████████████████████████████████████████████████████| 32/32 [00:25<00:00,  1.24it/s]\n"
     ]
    },
    {
     "name": "stdout",
     "output_type": "stream",
     "text": [
      "BLEU: 46.77155646480461\n",
      "Running zh --> de\n"
     ]
    },
    {
     "name": "stderr",
     "output_type": "stream",
     "text": [
      "100%|████████████████████████████████████████████████████████████████████████████████████████████████████████████████████████████████████████| 2/2 [00:01<00:00,  1.09it/s]\n"
     ]
    },
    {
     "name": "stdout",
     "output_type": "stream",
     "text": [
      "BLEU: 10.659646122470866\n",
      "Running de --> zh\n"
     ]
    },
    {
     "name": "stderr",
     "output_type": "stream",
     "text": [
      "100%|████████████████████████████████████████████████████████████████████████████████████████████████████████████████████████████████████████| 2/2 [00:01<00:00,  1.60it/s]\n"
     ]
    },
    {
     "name": "stdout",
     "output_type": "stream",
     "text": [
      "BLEU: 4.0778635113143125\n",
      "Running zh --> fr\n"
     ]
    },
    {
     "name": "stderr",
     "output_type": "stream",
     "text": [
      "100%|████████████████████████████████████████████████████████████████████████████████████████████████████████████████████████████████████████| 2/2 [00:03<00:00,  1.73s/it]\n"
     ]
    },
    {
     "name": "stdout",
     "output_type": "stream",
     "text": [
      "BLEU: 5.735998578355137\n",
      "Running fr --> zh\n"
     ]
    },
    {
     "name": "stderr",
     "output_type": "stream",
     "text": [
      "100%|████████████████████████████████████████████████████████████████████████████████████████████████████████████████████████████████████████| 2/2 [00:01<00:00,  1.65it/s]\n"
     ]
    },
    {
     "name": "stdout",
     "output_type": "stream",
     "text": [
      "BLEU: 4.907097227581703\n",
      "Running de --> fr\n"
     ]
    },
    {
     "name": "stderr",
     "output_type": "stream",
     "text": [
      "100%|██████████████████████████████████████████████████████████████████████████████████████████████████████████████████████████████████████| 32/32 [00:30<00:00,  1.05it/s]\n"
     ]
    },
    {
     "name": "stdout",
     "output_type": "stream",
     "text": [
      "BLEU: 34.18431776116203\n",
      "Running fr --> de\n"
     ]
    },
    {
     "name": "stderr",
     "output_type": "stream",
     "text": [
      "100%|██████████████████████████████████████████████████████████████████████████████████████████████████████████████████████████████████████| 32/32 [00:33<00:00,  1.04s/it]"
     ]
    },
    {
     "name": "stdout",
     "output_type": "stream",
     "text": [
      "BLEU: 30.806844357138125\n"
     ]
    },
    {
     "name": "stderr",
     "output_type": "stream",
     "text": [
      "\n"
     ]
    }
   ],
   "source": [
    "tag = 'NLLB'\n",
    "mapping = {\n",
    "    'en': 'eng_Latn',\n",
    "    'zh': 'zho_Hant',\n",
    "    'de': 'deu_Latn',\n",
    "    'fr': 'fra_Latn',\n",
    "}\n",
    "run(model, tag, mapping, folders=['en-zh', 'en-de', 'en-fr', 'zh-de', 'zh-fr', 'de-fr'])"
   ]
  },
  {
   "cell_type": "code",
   "execution_count": null,
   "id": "3cdd2b07-063b-48fb-888f-8f23ebc86842",
   "metadata": {},
   "outputs": [],
   "source": []
  }
 ],
 "metadata": {
  "kernelspec": {
   "display_name": "Python 3 (ipykernel)",
   "language": "python",
   "name": "python3"
  },
  "language_info": {
   "codemirror_mode": {
    "name": "ipython",
    "version": 3
   },
   "file_extension": ".py",
   "mimetype": "text/x-python",
   "name": "python",
   "nbconvert_exporter": "python",
   "pygments_lexer": "ipython3",
   "version": "3.8.18"
  }
 },
 "nbformat": 4,
 "nbformat_minor": 5
}
