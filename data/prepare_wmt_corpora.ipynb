{
 "cells": [
  {
   "cell_type": "code",
   "execution_count": 17,
   "metadata": {},
   "outputs": [],
   "source": [
    "import os\n",
    "import gzip\n",
    "from tqdm import tqdm\n",
    "\n",
    "def txt_pairs_to_tsv_gz(inputs1, inputs2, out, ignore_assertation_keys=[], n_samples=-1):\n",
    "    assert type(inputs1) is list\n",
    "    assert type(inputs2) is list\n",
    "    assert 'en' in inputs1[0]\n",
    "    assert len(inputs1) == len(inputs2)\n",
    "    \n",
    "    os.makedirs(os.path.dirname(out), exist_ok=True)\n",
    "\n",
    "    n = 0\n",
    "    done = False\n",
    "    with gzip.open(out, 'wt', encoding='utf8') if out.endswith('.gz') else open(out, 'w', encoding='utf8') as wf:\n",
    "        for path1, path2 in tqdm(zip(inputs1, inputs2)):\n",
    "            print(path1, path2)\n",
    "            f1 = open(path1, 'r', encoding='utf8')\n",
    "            f2 = open(path2, 'r', encoding='utf8')\n",
    "            while True:\n",
    "                line1 = f1.readline()\n",
    "                line2 = f2.readline()\n",
    "\n",
    "                if line1 and not line1.strip():\n",
    "                    print(line1, line2)\n",
    "                    continue\n",
    "\n",
    "                if line2 and not line2.strip():\n",
    "                    print(line1, line2)\n",
    "                    continue\n",
    "\n",
    "                if not line1:\n",
    "                    if not any(k in path1 for k in ignore_assertation_keys):\n",
    "                        assert not line2\n",
    "                    break\n",
    "                n += 1\n",
    "                \n",
    "                line1 = line1.strip().replace(\"\\t\", \" \")\n",
    "                line2 = line2.strip().replace(\"\\t\", \" \")\n",
    "                wf.write(f'{line1}\\t{line2}\\n')\n",
    "\n",
    "                if n == n_samples:\n",
    "                    done = True\n",
    "                    break\n",
    "                \n",
    "            f1.close()\n",
    "            f2.close()\n",
    "            print(f'have processed {n} lines...')\n",
    "            if done:\n",
    "                break\n",
    "    print(f'There are {n} lines')"
   ]
  },
  {
   "attachments": {},
   "cell_type": "markdown",
   "metadata": {},
   "source": [
    "# WMT 17: en-zh"
   ]
  },
  {
   "attachments": {},
   "cell_type": "markdown",
   "metadata": {},
   "source": [
    "1. download en-zh corpora from the [official website](https://www.statmt.org/wmt17/translation-task.html)\n",
    "2. note that the original released `neu2017.zip` has a problem, you can download it from [here](https://huggingface.co/datasets/wmt/wmt18/tree/main/cwmt-wmt)\n",
    "3. unzip all files, the resulting folders are as follows:\n",
    "    - casia2015\n",
    "    - casict2011\n",
    "    - casict2015\n",
    "    - datum2015\n",
    "    - datum2017\n",
    "    - neu2017\n",
    "    - training\n",
    "    - en-zh\n",
    "4. run the following cells to prepare corpora for `sentence-transformers`"
   ]
  },
  {
   "cell_type": "code",
   "execution_count": 19,
   "metadata": {},
   "outputs": [
    {
     "name": "stderr",
     "output_type": "stream",
     "text": [
      "0it [00:00, ?it/s]"
     ]
    },
    {
     "name": "stdout",
     "output_type": "stream",
     "text": [
      ".\\casia2015\\casia2015_en.txt .\\casia2015\\casia2015_ch.txt\n"
     ]
    },
    {
     "name": "stderr",
     "output_type": "stream",
     "text": [
      "1it [00:10, 10.23s/it]"
     ]
    },
    {
     "name": "stdout",
     "output_type": "stream",
     "text": [
      "have processed 1050000 lines...\n",
      ".\\casict2011\\casict-A_en.txt .\\casict2011\\casict-A_ch.txt\n"
     ]
    },
    {
     "name": "stderr",
     "output_type": "stream",
     "text": [
      "1it [00:10, 10.61s/it]"
     ]
    },
    {
     "name": "stdout",
     "output_type": "stream",
     "text": [
      "have processed 1111391 lines...\n",
      "There are 1111391 lines\n"
     ]
    },
    {
     "name": "stderr",
     "output_type": "stream",
     "text": [
      "\n"
     ]
    }
   ],
   "source": [
    "import glob\n",
    "\n",
    "en = sorted(glob.glob('./*/*_en.txt') + glob.glob('./*/*en-zh.en') + glob.glob('./*/*zh-en.en'))\n",
    "zh = sorted(glob.glob('./*/*_ch.txt') + glob.glob('./*/*en-zh.zh') + glob.glob('./*/*zh-en.zh') + glob.glob('./*/*_cn.txt'))\n",
    "\n",
    "txt_pairs_to_tsv_gz(\n",
    "    en, zh, \n",
    "    'corpus/wmt/1M_en-zh.tsv',\n",
    "    n_samples=1111391,\n",
    ")"
   ]
  },
  {
   "attachments": {},
   "cell_type": "markdown",
   "metadata": {},
   "source": [
    "# WMT 14: En-Fr"
   ]
  },
  {
   "attachments": {},
   "cell_type": "markdown",
   "metadata": {},
   "source": [
    "1. download en-zh corpora from the [official website](https://www.statmt.org/wmt14/translation-task.html)\n",
    "2. unzip all files, the resulting folders and files are as follows:\n",
    "    - training/\n",
    "    - un/\n",
    "    - giga-fren.release2.fixed.en\n",
    "    - giga-fren.release2.fixed.fr\n",
    "3. run the following cells to prepare corpora for `sentence-transformers`"
   ]
  },
  {
   "cell_type": "code",
   "execution_count": 18,
   "metadata": {},
   "outputs": [
    {
     "name": "stderr",
     "output_type": "stream",
     "text": [
      "0it [00:00, ?it/s]"
     ]
    },
    {
     "name": "stdout",
     "output_type": "stream",
     "text": [
      "./giga-fren.release2.fixed.en ./giga-fren.release2.fixed.fr\n",
      "   \n",
      "      \n",
      "\n",
      " \n",
      "    \n",
      "\n",
      " \n",
      " Rosemary Brown, 1977 \n",
      "\n",
      " \n",
      " (28 novembre 2006). \n",
      "\n",
      " \n",
      " 100, comparativement à la moyenne nationale qui est de 13 p.\n",
      "\n",
      " \n",
      " Suivez ce lien pour enregistrer votre entreprise en ligne. \n",
      "\n",
      "• The Magnesium Home Page\n",
      "  \n",
      "\n",
      " \n",
      " • Corporation commerciale canadienne (CCC) :\n",
      "\n",
      "Français\n",
      "  \n",
      "\n",
      " \n",
      " • Question 27 :\n",
      "\n",
      " \n",
      " • Nous avons respecté notre engagement.\n",
      "\n",
      " \n",
      " • Nous serons prêts à accueillir les quelque 10 000 journalistes accrédités.\n",
      "\n",
      " \n",
      " • Selon ce sondage, 58 p.\n",
      "\n",
      " \n",
      " 100, ce qui est comparable aux années précédentes. \n",
      "\n",
      "•  \n",
      "  \n",
      "\n",
      " \n",
      " 100 de la population en 2001. \n",
      "\n",
      "\"Canada is a nation of immigrants.\n",
      "  \n",
      "\n",
      " \n",
      " •\n",
      "\n",
      " \n",
      " Les centres d'amitié autochtones reconnus par le Programme soumettent une demande directement à l'ANCA.\n",
      "\n",
      " \n",
      " Extrants :\n",
      "\n",
      " \n",
      " • D’autres phénomènes peuvent aussi être à l’origine d’erreurs.\n",
      "\n",
      " \n",
      " 100) dans les provinces de l’Atlantique. \n",
      "\n",
      " \n",
      " • Formation et développement professionnel pour jeunes artistes :\n",
      "\n",
      "• Selective component:\n",
      "  \n",
      "\n",
      "2, The Journalists, Ottawa:\n",
      "  \n",
      "\n",
      "(Exception:\n",
      "  \n",
      "\n",
      "• The exceptions:\n",
      "  \n",
      "\n",
      " \n",
      " • Diversité des partenaires :\n",
      "\n",
      " \n",
      " • Autres mécanismes de formation :\n",
      "\n",
      "Improved training/communication with hosting staff:\n",
      "  \n",
      "\n",
      "• Temporary closure of organizations.\n",
      "  \n",
      "\n",
      "Pierre Jolys)  \n",
      "  \n",
      "\n",
      " \n",
      " ◦ Forums Jeunesse Canada :\n",
      "\n",
      " \n",
      " (9) D. Rapport coût-efficacité/Solutions de rechange 9.\n",
      "\n",
      "• Envelope for TV5 QC.\n",
      "  \n",
      "\n",
      "• Matching of financial data.\n",
      "  \n",
      "\n",
      "• Case studies.\n",
      "  \n",
      "\n",
      " \n",
      " 100 du total.\n",
      "\n",
      " \n",
      " »  \n",
      "\n",
      "In other words...\n",
      "  \n",
      "\n",
      " \n",
      " -- non pas seulement sur le racisme.\n",
      "\n",
      "RECOMMENDATIONS:\n",
      "  \n",
      "\n",
      "(Tuberculosis is back.)  \n",
      "  \n",
      "\n",
      " \n",
      " (en anglais seulement) \n",
      "\n",
      "• The federal government's Gathering Strength:\n",
      "  \n",
      "\n",
      " \n",
      " • Gauthier.\n",
      "\n",
      " \n",
      " 100 de ces emplois. \n",
      "\n",
      "Ministère de l’Industrie, Juillet 2005 \n",
      "  \n",
      "\n",
      "• Une vision d’avenir :\n",
      "  \n",
      "\n",
      " \n",
      " •  \n",
      "\n"
     ]
    },
    {
     "name": "stderr",
     "output_type": "stream",
     "text": [
      "0it [00:11, ?it/s]"
     ]
    },
    {
     "name": "stdout",
     "output_type": "stream",
     "text": [
      "have processed 1111391 lines...\n",
      "There are 1111391 lines\n"
     ]
    },
    {
     "name": "stderr",
     "output_type": "stream",
     "text": [
      "\n"
     ]
    }
   ],
   "source": [
    "import glob\n",
    "\n",
    "en = sorted(glob.glob('./*/*fr-en.en') + ['./giga-fren.release2.fixed.en'])\n",
    "en = [item for item in en if 'news-commentary-v12' not in item] # news-commentary-v12 is from WMT17\n",
    "\n",
    "fr = sorted(glob.glob('./*/*fr-en.fr') + ['./giga-fren.release2.fixed.fr'])\n",
    "fr = [item for item in fr if 'news-commentary-v12' not in item] # news-commentary-v12 is from WMT17\n",
    "\n",
    "assert len(en) == len(fr) == 5\n",
    "\n",
    "txt_pairs_to_tsv_gz(\n",
    "    en, fr, \n",
    "    'corpus/wmt/1M_en-fr.tsv',\n",
    "    n_samples=1111391,\n",
    ")"
   ]
  },
  {
   "attachments": {},
   "cell_type": "markdown",
   "metadata": {},
   "source": [
    "# WMT 14: En-De"
   ]
  },
  {
   "attachments": {},
   "cell_type": "markdown",
   "metadata": {},
   "source": [
    "1. download en-zh corpora from the [official website](https://www.statmt.org/wmt14/translation-task.html)\n",
    "3. unzip all files, the resulting folders and files are as follows:\n",
    "    - training/\n",
    "4. run the following cells to prepare corpora for `sentence-transformers`"
   ]
  },
  {
   "cell_type": "code",
   "execution_count": 20,
   "metadata": {},
   "outputs": [
    {
     "name": "stderr",
     "output_type": "stream",
     "text": [
      "0it [00:00, ?it/s]"
     ]
    },
    {
     "name": "stdout",
     "output_type": "stream",
     "text": [
      ".\\training\\commoncrawl.de-en.en .\\training\\commoncrawl.de-en.de\n"
     ]
    },
    {
     "name": "stderr",
     "output_type": "stream",
     "text": [
      "0it [00:13, ?it/s]"
     ]
    },
    {
     "name": "stdout",
     "output_type": "stream",
     "text": [
      "have processed 1111391 lines...\n",
      "There are 1111391 lines\n"
     ]
    },
    {
     "name": "stderr",
     "output_type": "stream",
     "text": [
      "\n"
     ]
    }
   ],
   "source": [
    "import glob\n",
    "\n",
    "en = sorted(glob.glob('./*/*de-en.en'))\n",
    "en = [item for item in en if 'news-commentary-v12' not in item] # news-commentary-v12 is from WMT17\n",
    "\n",
    "de = sorted(glob.glob('./*/*de-en.de'))\n",
    "de = [item for item in de if 'news-commentary-v12' not in item] # news-commentary-v12 is from WMT17\n",
    "\n",
    "assert len(en) == len(de) == 3\n",
    "\n",
    "txt_pairs_to_tsv_gz(\n",
    "    en, de, \n",
    "    'corpus/wmt/1M_en-de.tsv',\n",
    "    n_samples=1111391,\n",
    ")"
   ]
  },
  {
   "cell_type": "code",
   "execution_count": 21,
   "metadata": {},
   "outputs": [
    {
     "name": "stdout",
     "output_type": "stream",
     "text": [
      "['The show stars the X Girls - a troupe of talented topless dancers, some of whom are classically trained.', 'The centerpiece of the show is a farcical rendition of Swan Lake in which male and female performers dance in pink tutus and imitate swans.', 'The removal of the barrier between performance and post-production was just as helpful for the actors.']\n",
      "['iron cement is a ready for use paste which is laid as a fillet by putty knife or finger in the mould edges (corners) of the steel ingot mould.', 'iron cement protects the ingot against the hot, abrasive steel casting process.', 'a fire restant repair cement for fire places, ovens, open fireplaces etc.']\n",
      "['Changing Lives | Changing Society | How It Works | Technology Drives Change Home | Concepts | Teachers | Search | Overview | Credits | HHCC Web | Reference | Feedback Virtual Museum of Canada Home Page', 'Site map', 'Feedback']\n",
      "[\"As government spokesmen have pointed out, however, Sri Lanka's voters will at least have the chance to turf him out in six years' time.\", 'When would you like to stay at the Lancaster Lodge?', 'Top Favorites 2010 will be worse than Big Brother.']\n"
     ]
    }
   ],
   "source": [
    "import random\n",
    "random.seed(0)\n",
    "n_samples=1111391\n",
    "\n",
    "enligsh_sentences = []\n",
    "for file in ['corpus/wmt/1M_en-zh.tsv', 'corpus/wmt/1M_en-de.tsv', 'corpus/wmt/1M_en-fr.tsv']:\n",
    "    data = open(file, encoding='utf8').read().strip().split('\\n')\n",
    "    data = [line.split('\\t')[0] for line in data]\n",
    "    print(data[:3])\n",
    "    enligsh_sentences.extend(data)\n",
    "\n",
    "random.shuffle(enligsh_sentences)\n",
    "print(enligsh_sentences[:3])\n",
    "\n",
    "with open('corpus/wmt/1M_en.tsv', 'w', encoding='utf8') as wf:\n",
    "    wf.write('\\n'.join(enligsh_sentences[:n_samples]))"
   ]
  },
  {
   "cell_type": "code",
   "execution_count": null,
   "metadata": {},
   "outputs": [],
   "source": []
  }
 ],
 "metadata": {
  "kernelspec": {
   "display_name": "base",
   "language": "python",
   "name": "python3"
  },
  "language_info": {
   "codemirror_mode": {
    "name": "ipython",
    "version": 3
   },
   "file_extension": ".py",
   "mimetype": "text/x-python",
   "name": "python",
   "nbconvert_exporter": "python",
   "pygments_lexer": "ipython3",
   "version": "3.6.4"
  },
  "orig_nbformat": 4
 },
 "nbformat": 4,
 "nbformat_minor": 2
}
